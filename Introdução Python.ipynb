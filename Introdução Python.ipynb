{
 "cells": [
  {
   "cell_type": "code",
   "execution_count": 9,
   "id": "4e36a0e1",
   "metadata": {},
   "outputs": [
    {
     "name": "stdout",
     "output_type": "stream",
     "text": [
      "Informe o valor da base: 2\n",
      "Informe o valor da largura: 4\n",
      "Informe o valor da altura: 6\n",
      "Calculo do Volume do paralelepípedo:  48.0\n"
     ]
    }
   ],
   "source": [
    "base = input(\"Informe o valor da base: \")\n",
    "base_float = float(base)\n",
    "largura = input (\"Informe o valor da largura: \")\n",
    "largura_float = float(largura)\n",
    "altura = input(\"Informe o valor da altura: \")\n",
    "altura_float = float(altura)\n",
    "\n",
    "volume_float= (base_float * altura_float) * largura_float\n",
    "\n",
    "print(\"Calculo do Volume do paralelepípedo: \",volume_float)"
   ]
  },
  {
   "cell_type": "code",
   "execution_count": 6,
   "id": "8a4f8c63",
   "metadata": {},
   "outputs": [
    {
     "name": "stdout",
     "output_type": "stream",
     "text": [
      "Saque não efetuado!\n",
      "Saldo insuficiente! ou Idade menor que 25\n"
     ]
    }
   ],
   "source": [
    "saldo = 500\n",
    "idade_usuario = 21\n",
    "cheque_especial = 500\n",
    "valor_saque = 600\n",
    "\n",
    "# teste para saber se possui limite para o saque\n",
    "\n",
    "if saldo < valor_saque:\n",
    " # mesmo sem saldo, usuários com mais de 25 anos de idade,\n",
    " # podem sacar até 500 de cheque especial\n",
    " if idade_usuario >= 25 and saldo + cheque_especial >= valor_saque:\n",
    "    saldo -= valor_saque\n",
    "    print('Saque efetuado com sucesso!')\n",
    "    print('Cheque especial: R$%0.2f' % saldo)\n",
    "    \n",
    " # cenário onde o dinheiro não é liberado\n",
    " else:\n",
    "    print('Saque não efetuado!')\n",
    "    print('Saldo insuficiente! ou Idade menor que 25 !')    \n",
    "\n",
    " # caso positivo, o saque é efetuado\n",
    "\n",
    "else:\n",
    "    saldo -= valor_saque\n",
    "    print('Saque efetuado com sucesso!')\n",
    "    print('Saldo: R$%0.2f' % saldo)"
   ]
  },
  {
   "cell_type": "code",
   "execution_count": 7,
   "id": "badfb46c",
   "metadata": {},
   "outputs": [
    {
     "name": "stdout",
     "output_type": "stream",
     "text": [
      "Informe um numero: 4\n",
      "Você digitou um número par! Vou pedir que você digite outro número.\n",
      "Digite um número qualquer: 6\n",
      "Você digitou um número par! Vou pedir que você digite outro número.\n",
      "Digite um número qualquer: 5\n",
      "Parabéns, você digitou um número ímpar! Agora o programa vai seguir ...\n"
     ]
    }
   ],
   "source": [
    "numero = int(input(\"Informe um numero: \"))\n",
    "\n",
    "while numero % 2 == 0:# enquanto número for par, continue pedindo mais números\n",
    "    print('Você digitou um número par! Vou pedir que você digite outro número.')\n",
    "    numero = int(input('Digite um número qualquer: '))\n",
    "print('Parabéns, você digitou um número ímpar! Agora o programa vai seguir ...')    "
   ]
  },
  {
   "cell_type": "code",
   "execution_count": 9,
   "id": "bead8bbf",
   "metadata": {},
   "outputs": [
    {
     "name": "stdout",
     "output_type": "stream",
     "text": [
      "Aproveite frutas em promoção: Banana\n",
      "Aproveite frutas em promoção: Abacate\n",
      "Aproveite frutas em promoção: Goiaba\n",
      "Aproveite frutas em promoção: Laranja\n"
     ]
    }
   ],
   "source": [
    "#for variavel in valores(listas)\n",
    "frutas_promocoes = [\"Banana\", \"Abacate\", \"Goiaba\", \"Laranja\"]\n",
    "for frutas in frutas_promocoes:\n",
    "    print(\"Aproveite frutas em promoção: \"+frutas)"
   ]
  },
  {
   "cell_type": "code",
   "execution_count": 10,
   "id": "b25e4659",
   "metadata": {},
   "outputs": [
    {
     "name": "stdout",
     "output_type": "stream",
     "text": [
      "valor de x é  0\n",
      "valor de x é  1\n",
      "valor de x é  2\n",
      "valor de x é  3\n",
      "valor de x é  4\n"
     ]
    }
   ],
   "source": [
    "#para de ate\n",
    "for x in range(5):\n",
    "    print(\"valor de x é \", x)"
   ]
  },
  {
   "cell_type": "code",
   "execution_count": null,
   "id": "b8591d33",
   "metadata": {},
   "outputs": [],
   "source": []
  }
 ],
 "metadata": {
  "kernelspec": {
   "display_name": "Python 3",
   "language": "python",
   "name": "python3"
  },
  "language_info": {
   "codemirror_mode": {
    "name": "ipython",
    "version": 3
   },
   "file_extension": ".py",
   "mimetype": "text/x-python",
   "name": "python",
   "nbconvert_exporter": "python",
   "pygments_lexer": "ipython3",
   "version": "3.8.8"
  }
 },
 "nbformat": 4,
 "nbformat_minor": 5
}
