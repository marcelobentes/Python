{
 "cells": [
  {
   "cell_type": "code",
   "execution_count": 25,
   "id": "6cd56523",
   "metadata": {},
   "outputs": [
    {
     "name": "stdout",
     "output_type": "stream",
     "text": [
      "97\n",
      "a\n",
      "7\n",
      "Tecle \"S\" para SIM e \"N\" para não: s\n",
      "Tecle 'S' para SIM e 'N' para não:s\n",
      "Tecle 'S' para SIM e 'N' para não:s\n",
      "tipo da variavel:  <class 'str'>\n",
      "m\n",
      "9\n",
      "Vamo\n",
      "VAMOS LÁ!\n",
      "vamos lá!\n",
      "6\n",
      "João Menicava Teresa que Menicava Raimundo\n",
      "que Menicava Maria que Menicava Joaquim que Menicava Lili\n",
      "que não Menicava ninguém. \n",
      "Paulo não está na lista de pessoas.\n",
      "Digite seu nome: Marcelo\n",
      "Digite sua idade: 36\n",
      "Digite sua altura: 1.69\n",
      "Olá, Marcelo! Sua idade é 36 anos e sua altura é 1.69m. \n"
     ]
    }
   ],
   "source": [
    "print(ord('a'))\n",
    "print(chr(97))\n",
    "print(chr(55))\n",
    "\n",
    "str1 = 'Uma string!'\n",
    "str2 = \"Outra string!\"\n",
    "str3 = \"\"\"Mais uma string!\"\"\"\n",
    "\n",
    "opcao = input('Tecle \"S\" para SIM e \"N\" para não: ')\n",
    "opcao = input(\"Tecle 'S' para SIM e 'N' para não:\")\n",
    "opcao = input(\"\"\"Tecle 'S' para SIM e 'N' para não:\"\"\")\n",
    "\n",
    "#acessando o indice de uma String\n",
    "\n",
    "x = \"Vamos lá!\"\n",
    "print(\"tipo da variavel: \",type(x))#retorna o tipo da variavel\n",
    "print(x[2])#acessando o indice da String\n",
    "print(len(x))\n",
    "primeira_parte = x[ : len(x) // 2]#divindo o fatiamento do tamanho da String\n",
    "print(primeira_parte)\n",
    "\n",
    "#passando um String para maiuscula\n",
    "msg_MAIUSCULA = x.upper()\n",
    "print(msg_MAIUSCULA)\n",
    "\n",
    "#passando um String para minuscula\n",
    "msg_minuscula = x.lower()\n",
    "print(msg_minuscula)\n",
    "\n",
    "#contando quantas vezes a palavra se repete\n",
    "quantos = \"\"\"João amava Teresa que amava Raimundo\n",
    "que amava Maria que amava Joaquim que amava Lili\n",
    "que não amava ninguém. \"\"\".count(\"amava\")\n",
    "print(quantos) # vai imprimir o valor 6\n",
    "\n",
    "#substituindo a palavra\n",
    "quantos = \"\"\"João amava Teresa que amava Raimundo\n",
    "que amava Maria que amava Joaquim que amava Lili\n",
    "que não amava ninguém. \"\"\".replace(\"amava\", \"Menicava\")\n",
    "print(quantos) \n",
    "\n",
    "#Utilizando o operador in, é possível verificar se existe uma dada palavra em uma string, como no exemplo abaixo:\n",
    "\n",
    "texto = \"\"\"João amava Teresa que amava Raimundo\n",
    "que amava Maria que amava Joaquim que amava Lili\n",
    "que não amava ninguém. \"\"\"\n",
    "if \"Paulo\" in texto:\n",
    "    print(\"Paulo está na lista de pessoas.\")\n",
    "else:\n",
    "    print(\"Paulo não está na lista de pessoas.\")\n",
    "    \n",
    "#Usando o format()    \n",
    "nome = input('Digite seu nome: ')\n",
    "idade = int(input('Digite sua idade: '))\n",
    "altura = float(input('Digite sua altura: '))\n",
    "  \n",
    "formato_msg = 'Olá, {}! Sua idade é {} anos e sua altura é {}m. '\n",
    "msg = formato_msg.format(nome, idade, altura)\n",
    "print(msg)"
   ]
  },
  {
   "cell_type": "code",
   "execution_count": null,
   "id": "63e42d17",
   "metadata": {},
   "outputs": [],
   "source": []
  }
 ],
 "metadata": {
  "kernelspec": {
   "display_name": "Python 3",
   "language": "python",
   "name": "python3"
  },
  "language_info": {
   "codemirror_mode": {
    "name": "ipython",
    "version": 3
   },
   "file_extension": ".py",
   "mimetype": "text/x-python",
   "name": "python",
   "nbconvert_exporter": "python",
   "pygments_lexer": "ipython3",
   "version": "3.8.8"
  }
 },
 "nbformat": 4,
 "nbformat_minor": 5
}
