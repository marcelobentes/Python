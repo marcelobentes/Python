{
 "cells": [
  {
   "cell_type": "code",
   "execution_count": 1,
   "id": "f2c2abe8",
   "metadata": {},
   "outputs": [
    {
     "name": "stdout",
     "output_type": "stream",
     "text": [
      "Voto Engenharia:  12\n",
      "votoDataScience:  20\n",
      "Voto Introdução a Java:  8\n",
      "Mais votado foi DataScience com  20 votos.\n",
      "[0, 0, 0, 0, 0, 0, 0, 0, 0, 0, 0, 0, 1, 1, 1, 1, 1, 1, 1, 1, 1, 1, 1, 1, 1, 1, 1, 1, 1, 1, 1, 1, 2, 2, 2, 2, 2, 2, 2, 2]\n",
      "Curso mais votado foi:  20\n"
     ]
    }
   ],
   "source": [
    "#‘Engenharia de Software’ responderam 0\n",
    "#‘Python para Data Science’ responderam 1\n",
    "#‘Introdução à Java’ responderam 2\n",
    "cursos = [\n",
    "  'Engenharia de Software',\n",
    "  'Python para Data Science',\n",
    "  'Introdução a Java'\n",
    "]\n",
    "respostas = [1, 2, 0, 1, 1, 1, 1, 0, 0, 2, 2, 0, 1, 1,\n",
    "  1, 1, 2, 0, 1, 1, 0, 1, 0, 2, 1, 1, 0, 2,\n",
    "  2, 1, 0, 1, 1, 0, 0, 0, 1, 1, 2, 1\n",
    "]\n",
    "votoEngenharia = 0\n",
    "votoDataScience = 0\n",
    "votoIntroducaoJava = 0\n",
    "\n",
    "print(\"Quantidades de votos.\")\n",
    "\n",
    "for i in range (len(respostas)):\n",
    "    if respostas[i] == 0:\n",
    "        votoEngenharia += 1\n",
    "    if respostas[i] == 1:\n",
    "        votoDataScience += 1\n",
    "    if respostas[i] == 2:\n",
    "        votoIntroducaoJava += 1\n",
    "print(\"Voto Engenharia: \",votoEngenharia)\n",
    "print(\"votoDataScience: \",votoDataScience)\n",
    "print(\"Voto Introdução a Java: \" ,votoIntroducaoJava)  \n",
    "maisVotado = votoEngenharia\n",
    "\n",
    "if votoDataScience > maisVotado:\n",
    "    maisVotado = votoDataScience\n",
    "    print(\"Mais votado foi DataScience com \",votoDataScience,\"votos.\")\n",
    "elif votoIntroducaoJava > maisVotado:\n",
    "    maisVotado = votoIntroducaoJava\n",
    "    print(\"Mais votado foi Introdução a Java com \",votoIntroducaoJava,\"votos.\")\n",
    "else:\n",
    "    print(\"Mais votado foi Engenharia com \",votoEngenharia,\"votos.\")\n",
    "\n",
    "respostas.sort()\n",
    "print(respostas)\n",
    "\n"
   ]
  },
  {
   "cell_type": "code",
   "execution_count": null,
   "id": "84dcee01",
   "metadata": {},
   "outputs": [],
   "source": []
  }
 ],
 "metadata": {
  "kernelspec": {
   "display_name": "Python 3",
   "language": "python",
   "name": "python3"
  },
  "language_info": {
   "codemirror_mode": {
    "name": "ipython",
    "version": 3
   },
   "file_extension": ".py",
   "mimetype": "text/x-python",
   "name": "python",
   "nbconvert_exporter": "python",
   "pygments_lexer": "ipython3",
   "version": "3.8.8"
  }
 },
 "nbformat": 4,
 "nbformat_minor": 5
}
